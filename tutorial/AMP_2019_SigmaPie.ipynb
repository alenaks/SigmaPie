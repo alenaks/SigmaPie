{
 "cells": [
  {
   "cell_type": "markdown",
   "metadata": {},
   "source": [
    "<div style=\"text-align: right\">\n",
    "    <i>\n",
    "        AMP 2019 (October 12) <br>\n",
    "        Alëna Aksënova\n",
    "    </i>\n",
    "</div>\n",
    "\n",
    "# _SigmaPie_ for subregular grammar induction\n",
    "\n",
    "## Subregular languages in phonology\n",
    "\n",
    "This toolkit is relevant for anyone who is working or going to work with subregualar grammars both from the perspectives of theoretical linguistics and formal language theory.\n",
    "\n",
    "**Why theoretical linguistics should be interested in formal language theory?** <br>\n",
    "_Formal language theory_ explains how potentially infinite stringsets, or _formal languages_,\n",
    "can be generalized to grammars encoding the desired patterns and what properties those\n",
    "grammars have. It also allows one to compare different grammars with respect to parameters such as expressivity.\n",
    "\n",
    "**Chomsky hierarchy** aligns main classes of formal languages with respect to their expressive power.\n",
    "  * **Regular** grammars are as powerful as finite state devices or regular expressions: they can \"count\" only until certain threshold (no $a^{n}b^{n}$ patterns);\n",
    "  * **Context-free** grammars have access to potentially infinite _stack_ that allows them to reproduce patterns that involve center embedding;\n",
    "  * **Mildly context-sensitive** grammars are powerful enough to handle some types of cross-serial dependencies such as copying;\n",
    "  * **Context sensitive** grammars are restricted to a finitely long [memory tape](https://en.wikipedia.org/wiki/Punched_tape) encoding the pattern;\n",
    "  * **Recursively enumerable** grammars are as powerful as any theoretically possible computer in this universe, they can use infinitely long memory tape.\n",
    "\n",
    "\n",
    "\n",
    "<img src=\"images/chomhier.png\" width=\"600\">\n",
    "\n",
    "\n",
    "Both phonology and morphology frequently display properties of regular languages.\n",
    "\n",
    "**Phonology** does not require the power of center-embedding. For example, consider a harmony where the first vowel agrees with the last vowel, second vowel agrees with the pre-last vowel, etc.\n",
    "    \n",
    "    GOOD: \"arugula\", \"tropicalization\", \"electrotelethermometer\", etc.\n",
    "    BAD:  any other word violating the rule.\n",
    "\n",
    "\n",
    "While it is a theoretically possible pattern, harmonies of that types are unattested in natural languages.\n",
    "\n",
    "**Morphology** avoids center-embedding as well. In [Aksënova et al. (2016)](https://www.aclweb.org/anthology/W16-2019) we show that it is possible to iterate prefixes with the meaning \"after\" in Russian. In Ilocano, where the same semantics is expressed via a circumfix, its iteration is prohibited.\n",
    "    \n",
    "    RUSSIAN: \"zavtra\" (tomorrow), \"posle-zavtra\" (the day after tomorrow), \n",
    "             \"posle-posle-zavtra\" (the day after the day after tomorrow), ...\n",
    "    ILOCANO: \"bigat\" (morning), \"ka-bigat-an\" (the next morning),\n",
    "             <*>\"ka-ka-bigat-an-an\" (the morning after the next one).\n",
    "\n",
    "\n",
    "Moreover, typological review of patterns shows that phonology and morphology do not require the full power of regular languages. As an example of an unattested pattern, [Heinz (2011)](http://jeffreyheinz.net/papers/Heinz-2011-CPF.pdf) provides a language where a word must have an even number of vowels to be well-formed.\n",
    "\n",
    "\n",
    "Regular languages can be sub-divided into another nested hierarchy of languages decreasing in their expressive power: **subregular hierarchy**.\n",
    "\n",
    "\n",
    "<img src=\"images/subreg.png\" width=\"250\">\n",
    "\n",
    "\n",
    "This tutorial and _SigmaPie_ toolkit currently contains functionality for the following classes:\n",
    "  * strictly piecewise (SP);\n",
    "  * strictly local (SL);\n",
    "  * tier-based strictly local (TSL);\n",
    "  * multiple tier-based strictly local (MTSL)."
   ]
  },
  {
   "cell_type": "markdown",
   "metadata": {},
   "source": [
    "## Functionality of the toolkit\n",
    "\n",
    "  * **Learners** extract grammars from stringsets.\n",
    "  * **Scanners** evaluate strings with respect to a given grammar.\n",
    "  * **Sample generators** generate stringsets for a given grammar.\n",
    "  * **FSM constructors** translate subregular grammars to finite state machines.\n",
    "  * **Polarity converters** switch negative grammars to positive, and vice versa."
   ]
  },
  {
   "cell_type": "code",
   "execution_count": 55,
   "metadata": {},
   "outputs": [
    {
     "name": "stdout",
     "output_type": "stream",
     "text": [
      "/home/alenaks\n",
      "/home/alenaks/Desktop/SigmaPie/code\n"
     ]
    }
   ],
   "source": [
    "%cd\n",
    "%cd Desktop/SigmaPie/code/\n",
    "\n",
    "from main import *"
   ]
  },
  {
   "cell_type": "markdown",
   "metadata": {},
   "source": [
    "## Strictly piecewise languages\n",
    "\n",
    "**Negative strictly $k$-piecewise (SP)** grammars prohibit occurrence of sequences of $k$ symbols at an arbitrary distance from each other. The value of $k$ defines the size of the window of the grammar, or the length of the longest sequence that the grammar can prohibit. Alternatively, if the grammar is positive, it lists subsequences that are allowed in well-formed words of the language.\n",
    "\n",
    "    k = 2\n",
    "    POLARITY: negative\n",
    "    GRAMMAR:  ab, ba\n",
    "    LANGUAGE: accaacc, cbccc, cccacaaaa, ...\n",
    "              <*>accacba, <*>bcccacbb, <*>bccccccca, ...\n",
    "              \n",
    "              \n",
    "In phonology, an example of an SP pattren is _tone plateauing_ considered in [Jardine (2015,](https://adamjardine.net/files/jardinecomptone-short.pdf) [2016)](https://adamjardine.net/files/jardine2016dissertation.pdf).\n",
    "For example, in Luganda (Bantu) a low tone (L) cannot intervene in-between two high tones (H): L is changed to H in such configuration.\n",
    "The prosodic domain cannot have more than one stretch of H tones.\n",
    "\n",
    "**Luganda verb and noun combinations** (Hyman and Katamba (2010), cited by Jardine (2016))\n",
    "\n",
    "  * /tw-áa-mú-láb-a, walúsimbi/ $\\Rightarrow$ tw-áá-mu-lab-a, walúsimbi <br>\n",
    "    ‘we saw him, Walusimbi’ <br>\n",
    "    **HHLLL, LHLL**\n",
    "    \n",
    "  * /tw-áa-láb-w-a walúsimbi/ $\\Rightarrow$ tw-áá-láb-wá wálúsimbi <br>\n",
    "    ‘we were seen by Walusimbi’ <br>\n",
    "    **HHHHHHLL**\n",
    "    \n",
    "  * /tw-áa-láb-a byaa=walúsimbi/ $\\Rightarrow$ tw-áá-láb-á byáá-wálúsimbi <br>\n",
    "    ‘we saw those of Walusimbi’ <br>\n",
    "    **HHHHHHHHLL**\n",
    "    \n",
    "This pattern can be described using SP grammar $G_{SP_{neg}} = \\{HLH\\}$."
   ]
  },
  {
   "cell_type": "markdown",
   "metadata": {},
   "source": [
    "### Learning tone plateauing pattern\n",
    "\n",
    "Negative and positive SP grammars are implemented in the package in the `SP()` class."
   ]
  },
  {
   "cell_type": "code",
   "execution_count": null,
   "metadata": {},
   "outputs": [],
   "source": []
  },
  {
   "cell_type": "code",
   "execution_count": 60,
   "metadata": {},
   "outputs": [
    {
     "data": {
      "text/plain": [
       "[('H', 'L', 'H')]"
      ]
     },
     "execution_count": 60,
     "metadata": {},
     "output_type": "execute_result"
    }
   ],
   "source": [
    "sp_neg = SP()\n",
    "sp_neg.change_polarity()\n",
    "sp_neg.k = 3\n",
    "sp_neg.data = [\"LLLL\", \"HHLLL\", \"LHHHLL\", \"LLLLHHHH\"]\n",
    "sp_neg.extract_alphabet()\n",
    "sp_neg.learn()\n",
    "sp_neg.grammar"
   ]
  },
  {
   "cell_type": "code",
   "execution_count": null,
   "metadata": {},
   "outputs": [],
   "source": []
  },
  {
   "cell_type": "code",
   "execution_count": null,
   "metadata": {},
   "outputs": [],
   "source": []
  },
  {
   "cell_type": "markdown",
   "metadata": {},
   "source": [
    "**Acknowledgements** \n",
    "  * Thomas\n",
    "  * Jeff\n",
    "  * Ani"
   ]
  },
  {
   "cell_type": "markdown",
   "metadata": {},
   "source": [
    "**Bibliography**\n",
    "\n",
    "  * Make a reference to Chomsky (?) for the Chomsky hierarchy\n",
    "  * Kaplan and Kay (1994)\n",
    "  * Karttunen et al. (1992)\n",
    "  * Shieber (1985)\n",
    "  * Heinz (2011)\n",
    "  * Aksenova et al (2016)\n",
    "  * Jardine 2015 and 2016\n",
    "  * Hyman and Katamba (2010)"
   ]
  },
  {
   "cell_type": "code",
   "execution_count": null,
   "metadata": {},
   "outputs": [],
   "source": []
  }
 ],
 "metadata": {
  "kernelspec": {
   "display_name": "Python 3",
   "language": "python",
   "name": "python3"
  },
  "language_info": {
   "codemirror_mode": {
    "name": "ipython",
    "version": 3
   },
   "file_extension": ".py",
   "mimetype": "text/x-python",
   "name": "python",
   "nbconvert_exporter": "python",
   "pygments_lexer": "ipython3",
   "version": "3.6.8"
  }
 },
 "nbformat": 4,
 "nbformat_minor": 2
}
